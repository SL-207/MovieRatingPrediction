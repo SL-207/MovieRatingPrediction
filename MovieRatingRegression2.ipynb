{
 "cells": [
  {
   "cell_type": "markdown",
   "id": "6cad4bb7",
   "metadata": {},
   "source": [
    "### 1. Import Dependencies"
   ]
  },
  {
   "cell_type": "code",
   "execution_count": 119,
   "id": "8eb4814b",
   "metadata": {},
   "outputs": [],
   "source": [
    "import numpy as np\n",
    "import pandas as pd\n",
    "import seaborn as sns\n",
    "import matplotlib.pyplot as plt\n",
    "import re\n",
    "from nltk.corpus import stopwords\n",
    "from nltk.stem.porter import PorterStemmer\n",
    "from sklearn.feature_extraction.text import TfidfVectorizer\n",
    "from sklearn.model_selection import train_test_split\n",
    "from xgboost import XGBRegressor\n",
    "from sklearn.linear_model import LinearRegression, Lasso\n",
    "from sklearn import metrics"
   ]
  },
  {
   "cell_type": "markdown",
   "id": "f1a40853",
   "metadata": {},
   "source": [
    "### 2. Data preprocessing"
   ]
  },
  {
   "cell_type": "code",
   "execution_count": 120,
   "id": "c3ded76c",
   "metadata": {},
   "outputs": [],
   "source": [
    "# Change to full movies dataset\n",
    "df = pd.read_csv('imdb_full_movies.csv')"
   ]
  },
  {
   "cell_type": "code",
   "execution_count": 121,
   "id": "75fab6e8",
   "metadata": {
    "scrolled": true
   },
   "outputs": [
    {
     "data": {
      "text/html": [
       "<div>\n",
       "<style scoped>\n",
       "    .dataframe tbody tr th:only-of-type {\n",
       "        vertical-align: middle;\n",
       "    }\n",
       "\n",
       "    .dataframe tbody tr th {\n",
       "        vertical-align: top;\n",
       "    }\n",
       "\n",
       "    .dataframe thead th {\n",
       "        text-align: right;\n",
       "    }\n",
       "</style>\n",
       "<table border=\"1\" class=\"dataframe\">\n",
       "  <thead>\n",
       "    <tr style=\"text-align: right;\">\n",
       "      <th></th>\n",
       "      <th>title</th>\n",
       "      <th>release_year</th>\n",
       "      <th>parental_rating</th>\n",
       "      <th>movie_duration</th>\n",
       "      <th>movie_rating</th>\n",
       "      <th>description</th>\n",
       "      <th>genres</th>\n",
       "      <th>budget</th>\n",
       "      <th>gross_na</th>\n",
       "      <th>gross_worldwide</th>\n",
       "    </tr>\n",
       "  </thead>\n",
       "  <tbody>\n",
       "    <tr>\n",
       "      <th>0</th>\n",
       "      <td>Our Drawings</td>\n",
       "      <td>2023</td>\n",
       "      <td>TV-MA</td>\n",
       "      <td>1h 1m</td>\n",
       "      <td>1.2</td>\n",
       "      <td>Paige Foster, discovers a mysterious intruder ...</td>\n",
       "      <td>Animation,Adventure</td>\n",
       "      <td>NaN</td>\n",
       "      <td>NaN</td>\n",
       "      <td>NaN</td>\n",
       "    </tr>\n",
       "    <tr>\n",
       "      <th>1</th>\n",
       "      <td>Clownfish</td>\n",
       "      <td>2010</td>\n",
       "      <td>NaN</td>\n",
       "      <td>1h 23m</td>\n",
       "      <td>1.2</td>\n",
       "      <td>A fish stuck in a fish pond does not have the ...</td>\n",
       "      <td>Drama,Romance</td>\n",
       "      <td>NaN</td>\n",
       "      <td>NaN</td>\n",
       "      <td>NaN</td>\n",
       "    </tr>\n",
       "    <tr>\n",
       "      <th>2</th>\n",
       "      <td>Zaletchiki</td>\n",
       "      <td>2014</td>\n",
       "      <td>NaN</td>\n",
       "      <td>1h 24m</td>\n",
       "      <td>1.2</td>\n",
       "      <td>NaN</td>\n",
       "      <td>Comedy</td>\n",
       "      <td>NaN</td>\n",
       "      <td>NaN</td>\n",
       "      <td>NaN</td>\n",
       "    </tr>\n",
       "    <tr>\n",
       "      <th>3</th>\n",
       "      <td>American Fiction</td>\n",
       "      <td>2023</td>\n",
       "      <td>R</td>\n",
       "      <td>1h 57m</td>\n",
       "      <td>7.5</td>\n",
       "      <td>A novelist who's fed up with the establishment...</td>\n",
       "      <td>Comedy,Drama</td>\n",
       "      <td>$21,098,470</td>\n",
       "      <td>$224,469</td>\n",
       "      <td>$22,483,370</td>\n",
       "    </tr>\n",
       "    <tr>\n",
       "      <th>4</th>\n",
       "      <td>Manos: The Hands of Fate</td>\n",
       "      <td>1966</td>\n",
       "      <td>Not Rated</td>\n",
       "      <td>1h 10m</td>\n",
       "      <td>1.6</td>\n",
       "      <td>A family gets lost on the road and stumbles up...</td>\n",
       "      <td>Horror</td>\n",
       "      <td>$19,000 (estimated)</td>\n",
       "      <td>NaN</td>\n",
       "      <td>NaN</td>\n",
       "    </tr>\n",
       "  </tbody>\n",
       "</table>\n",
       "</div>"
      ],
      "text/plain": [
       "                      title  release_year parental_rating movie_duration  \\\n",
       "0              Our Drawings          2023           TV-MA          1h 1m   \n",
       "1                 Clownfish          2010             NaN         1h 23m   \n",
       "2                Zaletchiki          2014             NaN         1h 24m   \n",
       "3          American Fiction          2023               R         1h 57m   \n",
       "4  Manos: The Hands of Fate          1966       Not Rated         1h 10m   \n",
       "\n",
       "   movie_rating                                        description  \\\n",
       "0           1.2  Paige Foster, discovers a mysterious intruder ...   \n",
       "1           1.2  A fish stuck in a fish pond does not have the ...   \n",
       "2           1.2                                                NaN   \n",
       "3           7.5  A novelist who's fed up with the establishment...   \n",
       "4           1.6  A family gets lost on the road and stumbles up...   \n",
       "\n",
       "                genres               budget  gross_na gross_worldwide  \n",
       "0  Animation,Adventure                  NaN       NaN             NaN  \n",
       "1        Drama,Romance                  NaN       NaN             NaN  \n",
       "2               Comedy                  NaN       NaN             NaN  \n",
       "3         Comedy,Drama          $21,098,470  $224,469     $22,483,370  \n",
       "4               Horror  $19,000 (estimated)       NaN             NaN  "
      ]
     },
     "execution_count": 121,
     "metadata": {},
     "output_type": "execute_result"
    }
   ],
   "source": [
    "df.head()"
   ]
  },
  {
   "cell_type": "code",
   "execution_count": 122,
   "id": "d8fd0c27",
   "metadata": {},
   "outputs": [
    {
     "data": {
      "text/html": [
       "<div>\n",
       "<style scoped>\n",
       "    .dataframe tbody tr th:only-of-type {\n",
       "        vertical-align: middle;\n",
       "    }\n",
       "\n",
       "    .dataframe tbody tr th {\n",
       "        vertical-align: top;\n",
       "    }\n",
       "\n",
       "    .dataframe thead th {\n",
       "        text-align: right;\n",
       "    }\n",
       "</style>\n",
       "<table border=\"1\" class=\"dataframe\">\n",
       "  <thead>\n",
       "    <tr style=\"text-align: right;\">\n",
       "      <th></th>\n",
       "      <th>release_year</th>\n",
       "      <th>movie_rating</th>\n",
       "    </tr>\n",
       "  </thead>\n",
       "  <tbody>\n",
       "    <tr>\n",
       "      <th>count</th>\n",
       "      <td>3840.000000</td>\n",
       "      <td>3840.000000</td>\n",
       "    </tr>\n",
       "    <tr>\n",
       "      <th>mean</th>\n",
       "      <td>2008.586979</td>\n",
       "      <td>4.790365</td>\n",
       "    </tr>\n",
       "    <tr>\n",
       "      <th>std</th>\n",
       "      <td>16.451029</td>\n",
       "      <td>2.140001</td>\n",
       "    </tr>\n",
       "    <tr>\n",
       "      <th>min</th>\n",
       "      <td>1917.000000</td>\n",
       "      <td>1.000000</td>\n",
       "    </tr>\n",
       "    <tr>\n",
       "      <th>25%</th>\n",
       "      <td>2001.000000</td>\n",
       "      <td>3.000000</td>\n",
       "    </tr>\n",
       "    <tr>\n",
       "      <th>50%</th>\n",
       "      <td>2014.000000</td>\n",
       "      <td>4.800000</td>\n",
       "    </tr>\n",
       "    <tr>\n",
       "      <th>75%</th>\n",
       "      <td>2021.000000</td>\n",
       "      <td>6.600000</td>\n",
       "    </tr>\n",
       "    <tr>\n",
       "      <th>max</th>\n",
       "      <td>2024.000000</td>\n",
       "      <td>9.300000</td>\n",
       "    </tr>\n",
       "  </tbody>\n",
       "</table>\n",
       "</div>"
      ],
      "text/plain": [
       "       release_year  movie_rating\n",
       "count   3840.000000   3840.000000\n",
       "mean    2008.586979      4.790365\n",
       "std       16.451029      2.140001\n",
       "min     1917.000000      1.000000\n",
       "25%     2001.000000      3.000000\n",
       "50%     2014.000000      4.800000\n",
       "75%     2021.000000      6.600000\n",
       "max     2024.000000      9.300000"
      ]
     },
     "execution_count": 122,
     "metadata": {},
     "output_type": "execute_result"
    }
   ],
   "source": [
    "df.describe()"
   ]
  },
  {
   "cell_type": "code",
   "execution_count": 123,
   "id": "dea0869f",
   "metadata": {},
   "outputs": [
    {
     "data": {
      "text/plain": [
       "(3840, 10)"
      ]
     },
     "execution_count": 123,
     "metadata": {},
     "output_type": "execute_result"
    }
   ],
   "source": [
    "df.shape"
   ]
  },
  {
   "cell_type": "code",
   "execution_count": 124,
   "id": "d054c66f",
   "metadata": {},
   "outputs": [
    {
     "data": {
      "text/html": [
       "<div>\n",
       "<style scoped>\n",
       "    .dataframe tbody tr th:only-of-type {\n",
       "        vertical-align: middle;\n",
       "    }\n",
       "\n",
       "    .dataframe tbody tr th {\n",
       "        vertical-align: top;\n",
       "    }\n",
       "\n",
       "    .dataframe thead th {\n",
       "        text-align: right;\n",
       "    }\n",
       "</style>\n",
       "<table border=\"1\" class=\"dataframe\">\n",
       "  <thead>\n",
       "    <tr style=\"text-align: right;\">\n",
       "      <th></th>\n",
       "      <th>title</th>\n",
       "      <th>release_year</th>\n",
       "      <th>parental_rating</th>\n",
       "      <th>movie_duration</th>\n",
       "      <th>movie_rating</th>\n",
       "      <th>description</th>\n",
       "      <th>genres</th>\n",
       "      <th>budget</th>\n",
       "      <th>gross_na</th>\n",
       "      <th>gross_worldwide</th>\n",
       "    </tr>\n",
       "  </thead>\n",
       "  <tbody>\n",
       "    <tr>\n",
       "      <th>61</th>\n",
       "      <td>Who's Your Caddy?</td>\n",
       "      <td>2007</td>\n",
       "      <td>PG-13</td>\n",
       "      <td>1h 33m</td>\n",
       "      <td>2.3</td>\n",
       "      <td>When a rap mogul from Atlanta tries to join a ...</td>\n",
       "      <td>Comedy,Sport</td>\n",
       "      <td>$7,000,000 (estimated)</td>\n",
       "      <td>$5,713,425</td>\n",
       "      <td>$5,713,425</td>\n",
       "    </tr>\n",
       "    <tr>\n",
       "      <th>138</th>\n",
       "      <td>Baaghi 3</td>\n",
       "      <td>2020</td>\n",
       "      <td>Not Rated</td>\n",
       "      <td>2h 23m</td>\n",
       "      <td>2.2</td>\n",
       "      <td>A man embarks on a bloody rampage to save his ...</td>\n",
       "      <td>Action,Adventure,Thriller</td>\n",
       "      <td>₹550,000,000 (estimated)</td>\n",
       "      <td>$721,439</td>\n",
       "      <td>$16,726,510</td>\n",
       "    </tr>\n",
       "    <tr>\n",
       "      <th>157</th>\n",
       "      <td>Student of the Year 2</td>\n",
       "      <td>2019</td>\n",
       "      <td>Not Rated</td>\n",
       "      <td>2h 26m</td>\n",
       "      <td>2.2</td>\n",
       "      <td>A student must face off against bullies and ov...</td>\n",
       "      <td>Action,Comedy,Drama</td>\n",
       "      <td>₹800,000,000 (estimated)</td>\n",
       "      <td>$778,566</td>\n",
       "      <td>$1,635,907</td>\n",
       "    </tr>\n",
       "    <tr>\n",
       "      <th>170</th>\n",
       "      <td>365 Days</td>\n",
       "      <td>2020</td>\n",
       "      <td>TV-MA</td>\n",
       "      <td>1h 54m</td>\n",
       "      <td>3.3</td>\n",
       "      <td>Massimo is a member of the Sicilian Mafia fami...</td>\n",
       "      <td>Drama,Romance</td>\n",
       "      <td>$9,458,590</td>\n",
       "      <td>NaN</td>\n",
       "      <td>NaN</td>\n",
       "    </tr>\n",
       "    <tr>\n",
       "      <th>176</th>\n",
       "      <td>Hobgoblins</td>\n",
       "      <td>1988</td>\n",
       "      <td>Not Rated</td>\n",
       "      <td>1h 28m</td>\n",
       "      <td>2.2</td>\n",
       "      <td>A young security guard must track down diminut...</td>\n",
       "      <td>Comedy,Horror,Sci-Fi</td>\n",
       "      <td>$15,000 (estimated)</td>\n",
       "      <td>NaN</td>\n",
       "      <td>NaN</td>\n",
       "    </tr>\n",
       "    <tr>\n",
       "      <th>...</th>\n",
       "      <td>...</td>\n",
       "      <td>...</td>\n",
       "      <td>...</td>\n",
       "      <td>...</td>\n",
       "      <td>...</td>\n",
       "      <td>...</td>\n",
       "      <td>...</td>\n",
       "      <td>...</td>\n",
       "      <td>...</td>\n",
       "      <td>...</td>\n",
       "    </tr>\n",
       "    <tr>\n",
       "      <th>3780</th>\n",
       "      <td>Stardust</td>\n",
       "      <td>2007</td>\n",
       "      <td>PG-13</td>\n",
       "      <td>2h 7m</td>\n",
       "      <td>7.6</td>\n",
       "      <td>In a countryside town bordering on a magical l...</td>\n",
       "      <td>Adventure,Family,Fantasy</td>\n",
       "      <td>$70,000,000 (estimated)</td>\n",
       "      <td>$38,634,938</td>\n",
       "      <td>$137,515,140</td>\n",
       "    </tr>\n",
       "    <tr>\n",
       "      <th>3803</th>\n",
       "      <td>Once Upon a Time... in Hollywood</td>\n",
       "      <td>2019</td>\n",
       "      <td>R</td>\n",
       "      <td>2h 41m</td>\n",
       "      <td>7.6</td>\n",
       "      <td>A faded television actor and his stunt double ...</td>\n",
       "      <td>Comedy,Drama</td>\n",
       "      <td>$90,000,000 (estimated)</td>\n",
       "      <td>$142,502,728</td>\n",
       "      <td>$377,617,681</td>\n",
       "    </tr>\n",
       "    <tr>\n",
       "      <th>3804</th>\n",
       "      <td>Killers of the Flower Moon</td>\n",
       "      <td>2023</td>\n",
       "      <td>R</td>\n",
       "      <td>3h 26m</td>\n",
       "      <td>7.6</td>\n",
       "      <td>When oil is discovered in 1920s Oklahoma under...</td>\n",
       "      <td>Crime,Drama,History</td>\n",
       "      <td>$200,000,000 (estimated)</td>\n",
       "      <td>$68,026,901</td>\n",
       "      <td>$157,026,901</td>\n",
       "    </tr>\n",
       "    <tr>\n",
       "      <th>3837</th>\n",
       "      <td>The Iron Claw</td>\n",
       "      <td>2023</td>\n",
       "      <td>R</td>\n",
       "      <td>2h 12m</td>\n",
       "      <td>7.7</td>\n",
       "      <td>The true story of the inseparable Von Erich br...</td>\n",
       "      <td>Biography,Drama,Sport</td>\n",
       "      <td>$15,000,000 (estimated)</td>\n",
       "      <td>$35,070,296</td>\n",
       "      <td>$44,217,977</td>\n",
       "    </tr>\n",
       "    <tr>\n",
       "      <th>3839</th>\n",
       "      <td>Hit Man</td>\n",
       "      <td>2023</td>\n",
       "      <td>R</td>\n",
       "      <td>1h 55m</td>\n",
       "      <td>7.7</td>\n",
       "      <td>A professor moonlighting as a hit man of sorts...</td>\n",
       "      <td>Action,Comedy</td>\n",
       "      <td>NaN</td>\n",
       "      <td>NaN</td>\n",
       "      <td>NaN</td>\n",
       "    </tr>\n",
       "  </tbody>\n",
       "</table>\n",
       "<p>258 rows × 10 columns</p>\n",
       "</div>"
      ],
      "text/plain": [
       "                                 title  release_year parental_rating  \\\n",
       "61                   Who's Your Caddy?          2007           PG-13   \n",
       "138                           Baaghi 3          2020       Not Rated   \n",
       "157              Student of the Year 2          2019       Not Rated   \n",
       "170                           365 Days          2020           TV-MA   \n",
       "176                         Hobgoblins          1988       Not Rated   \n",
       "...                                ...           ...             ...   \n",
       "3780                          Stardust          2007           PG-13   \n",
       "3803  Once Upon a Time... in Hollywood          2019               R   \n",
       "3804        Killers of the Flower Moon          2023               R   \n",
       "3837                     The Iron Claw          2023               R   \n",
       "3839                           Hit Man          2023               R   \n",
       "\n",
       "     movie_duration  movie_rating  \\\n",
       "61           1h 33m           2.3   \n",
       "138          2h 23m           2.2   \n",
       "157          2h 26m           2.2   \n",
       "170          1h 54m           3.3   \n",
       "176          1h 28m           2.2   \n",
       "...             ...           ...   \n",
       "3780          2h 7m           7.6   \n",
       "3803         2h 41m           7.6   \n",
       "3804         3h 26m           7.6   \n",
       "3837         2h 12m           7.7   \n",
       "3839         1h 55m           7.7   \n",
       "\n",
       "                                            description  \\\n",
       "61    When a rap mogul from Atlanta tries to join a ...   \n",
       "138   A man embarks on a bloody rampage to save his ...   \n",
       "157   A student must face off against bullies and ov...   \n",
       "170   Massimo is a member of the Sicilian Mafia fami...   \n",
       "176   A young security guard must track down diminut...   \n",
       "...                                                 ...   \n",
       "3780  In a countryside town bordering on a magical l...   \n",
       "3803  A faded television actor and his stunt double ...   \n",
       "3804  When oil is discovered in 1920s Oklahoma under...   \n",
       "3837  The true story of the inseparable Von Erich br...   \n",
       "3839  A professor moonlighting as a hit man of sorts...   \n",
       "\n",
       "                         genres                    budget      gross_na  \\\n",
       "61                 Comedy,Sport    $7,000,000 (estimated)    $5,713,425   \n",
       "138   Action,Adventure,Thriller  ₹550,000,000 (estimated)      $721,439   \n",
       "157         Action,Comedy,Drama  ₹800,000,000 (estimated)      $778,566   \n",
       "170               Drama,Romance                $9,458,590           NaN   \n",
       "176        Comedy,Horror,Sci-Fi       $15,000 (estimated)           NaN   \n",
       "...                         ...                       ...           ...   \n",
       "3780   Adventure,Family,Fantasy   $70,000,000 (estimated)   $38,634,938   \n",
       "3803               Comedy,Drama   $90,000,000 (estimated)  $142,502,728   \n",
       "3804        Crime,Drama,History  $200,000,000 (estimated)   $68,026,901   \n",
       "3837      Biography,Drama,Sport   $15,000,000 (estimated)   $35,070,296   \n",
       "3839              Action,Comedy                       NaN           NaN   \n",
       "\n",
       "     gross_worldwide  \n",
       "61        $5,713,425  \n",
       "138      $16,726,510  \n",
       "157       $1,635,907  \n",
       "170              NaN  \n",
       "176              NaN  \n",
       "...              ...  \n",
       "3780    $137,515,140  \n",
       "3803    $377,617,681  \n",
       "3804    $157,026,901  \n",
       "3837     $44,217,977  \n",
       "3839             NaN  \n",
       "\n",
       "[258 rows x 10 columns]"
      ]
     },
     "execution_count": 124,
     "metadata": {},
     "output_type": "execute_result"
    }
   ],
   "source": [
    "# Examine duplicate entries\n",
    "df[df.duplicated(subset='title', keep='first')]"
   ]
  },
  {
   "cell_type": "code",
   "execution_count": 125,
   "id": "3852538b",
   "metadata": {
    "scrolled": true
   },
   "outputs": [],
   "source": [
    "# Remove duplicates\n",
    "df.drop_duplicates(subset='title', keep='first', inplace=True)"
   ]
  },
  {
   "cell_type": "code",
   "execution_count": 126,
   "id": "7ba15a7f",
   "metadata": {
    "scrolled": true
   },
   "outputs": [
    {
     "data": {
      "text/plain": [
       "title                 0\n",
       "release_year          0\n",
       "parental_rating     747\n",
       "movie_duration        2\n",
       "movie_rating          0\n",
       "description          50\n",
       "genres                6\n",
       "budget              945\n",
       "gross_na           1632\n",
       "gross_worldwide    1837\n",
       "dtype: int64"
      ]
     },
     "execution_count": 126,
     "metadata": {},
     "output_type": "execute_result"
    }
   ],
   "source": [
    "# Check for null values\n",
    "df.isnull().sum()"
   ]
  },
  {
   "cell_type": "code",
   "execution_count": 127,
   "id": "7723b53f",
   "metadata": {},
   "outputs": [],
   "source": [
    "df.dropna(subset = 'description', inplace=True)\n",
    "df.dropna(subset = 'movie_duration', inplace=True)"
   ]
  },
  {
   "cell_type": "code",
   "execution_count": 128,
   "id": "b4a4d8de",
   "metadata": {},
   "outputs": [
    {
     "data": {
      "text/plain": [
       "title                 0\n",
       "release_year          0\n",
       "parental_rating     696\n",
       "movie_duration        0\n",
       "movie_rating          0\n",
       "description           0\n",
       "genres                2\n",
       "budget              910\n",
       "gross_na           1583\n",
       "gross_worldwide    1786\n",
       "dtype: int64"
      ]
     },
     "execution_count": 128,
     "metadata": {},
     "output_type": "execute_result"
    }
   ],
   "source": [
    "df.isnull().sum()"
   ]
  },
  {
   "cell_type": "code",
   "execution_count": 129,
   "id": "4018d753",
   "metadata": {},
   "outputs": [
    {
     "name": "stdout",
     "output_type": "stream",
     "text": [
      "Index([   0,    1,    3,    4,    5,    6,    7,    8,    9,   10,\n",
      "       ...\n",
      "       3828, 3829, 3830, 3831, 3832, 3833, 3834, 3835, 3836, 3838],\n",
      "      dtype='int64', length=3531)\n"
     ]
    }
   ],
   "source": [
    "# Update indexes to correctly reflect the data\n",
    "print(df.index)\n",
    "df.reset_index(drop=True, inplace=True)"
   ]
  },
  {
   "cell_type": "code",
   "execution_count": 130,
   "id": "66bcb3c0",
   "metadata": {},
   "outputs": [
    {
     "name": "stdout",
     "output_type": "stream",
     "text": [
      "RangeIndex(start=0, stop=3531, step=1)\n"
     ]
    },
    {
     "data": {
      "text/plain": [
       "(3531, 10)"
      ]
     },
     "execution_count": 130,
     "metadata": {},
     "output_type": "execute_result"
    }
   ],
   "source": [
    "print(df.index)\n",
    "df.shape"
   ]
  },
  {
   "cell_type": "markdown",
   "id": "5fc70f05",
   "metadata": {},
   "source": [
    "#### Process Numerical Data"
   ]
  },
  {
   "cell_type": "code",
   "execution_count": 134,
   "id": "95d22197",
   "metadata": {},
   "outputs": [
    {
     "data": {
      "text/plain": [
       "array(['1h 1m', '1h 23m', '1h 57m', '1h 10m', '1h 25m', '2h 22m',\n",
       "       '1h 13m', '1h 5m', '1h 30m', '1h 42m', '1h 24m', '1h 33m', '1h 3m',\n",
       "       '1h 18m', '1h 14m', '1h 31m', '1h 20m', '1h 22m', '1h 35m',\n",
       "       '1h 28m', '1h 19m', '1h', '1h 49m', '1h 21m', '1h 40m', '52m',\n",
       "       '1h 45m', '1h 32m', '1h 12m', '1h 26m', '1h 41m', '1h 6m',\n",
       "       '1h 50m', '1h 37m', '1h 34m', '2h 2m', '1h 36m', '1h 16m',\n",
       "       '1h 11m', '45m', '2h 5m', '1h 47m', '1h 27m', '1h 15m', '1h 48m',\n",
       "       '2h 26m', '3h 20m', '2h 23m', '1h 29m', '2h 7m', '2h 20m',\n",
       "       '1h 39m', '1h 38m', '2h', '2h 15m', '2h 32m', '1h 44m', '2h 21m',\n",
       "       '2h 59m', '1h 51m', '2h 1m', '2h 40m', '2h 17m', '58m', '1h 17m',\n",
       "       '1h 43m', '2h 13m', '2h 30m', '1h 56m', '2h 6m', '1h 8m', '2h 10m',\n",
       "       '2h 25m', '2h 4m', '1h 54m', '54m', '1h 2m', '2h 42m', '2h 18m',\n",
       "       '1h 52m', '2h 12m', '1h 53m', '1h 4m', '2h 48m', '2h 39m',\n",
       "       '5h 21m', '3h 1m', '2h 34m', '2h 9m', '2h 52m', '2h 28m', '1h 55m',\n",
       "       '2h 3m', '2h 44m', '2h 50m', '1h 58m', '2h 16m', '2h 11m', '2h 8m',\n",
       "       '3h 3m', '2h 19m', '3h 32m', '2h 29m', '3h 5m', '2h 14m', '2h 41m',\n",
       "       '3h 58m', '2h 33m', '1h 59m', '2h 58m', '2h 38m', '3h', '2h 36m',\n",
       "       '3h 38m', '3h 49m', '1h 46m', '2h 27m', '2h 45m', '2h 54m',\n",
       "       '2h 46m', '2h 31m', '2h 35m', '3h 9m', '2h 49m', '3h 27m',\n",
       "       '3h 21m', '3h 22m', '2h 55m', '48m', '3h 15m', '55m', '51m', '43m',\n",
       "       '2h 51m', '49m', '53m', '2h 37m', '3h 14m', '2h 24m', '3h 26m',\n",
       "       '2h 43m', '1h 9m', '56m', '1h 7m', '4h 10m', '59m', '5h 54m',\n",
       "       '2h 47m', '3h 7m', '3h 24m', '3h 40m', '3h 17m', '4h 2m', '3h 29m',\n",
       "       '2h 56m', '3h 12m'], dtype=object)"
      ]
     },
     "execution_count": 134,
     "metadata": {},
     "output_type": "execute_result"
    }
   ],
   "source": [
    "df.movie_duration.unique()"
   ]
  },
  {
   "cell_type": "code",
   "execution_count": 135,
   "id": "bff895ab",
   "metadata": {},
   "outputs": [],
   "source": [
    "# Converts movie duration to minutes\n",
    "def duration_to_min(duration):\n",
    "    hours = 0\n",
    "    minutes = 0\n",
    "    \n",
    "    if 'h' in duration:\n",
    "        h_idx = duration.index('h')\n",
    "        hours = int(duration[0:h_idx])\n",
    "        if 'm' in duration:\n",
    "            m_idx = duration.index('m')\n",
    "            minutes = int(duration[duration.index(' ')+1:m_idx])\n",
    "    elif 'm' in duration:\n",
    "        minutes = int(duration.strip('m'))\n",
    "    return hours * 60 + minutes"
   ]
  },
  {
   "cell_type": "code",
   "execution_count": 136,
   "id": "0c7fabcb",
   "metadata": {},
   "outputs": [],
   "source": [
    "df.movie_duration = df.movie_duration.apply(duration_to_min)"
   ]
  },
  {
   "cell_type": "code",
   "execution_count": 137,
   "id": "2252eb89",
   "metadata": {},
   "outputs": [
    {
     "data": {
      "text/plain": [
       "0        61\n",
       "1        83\n",
       "2       117\n",
       "3        70\n",
       "4        85\n",
       "       ... \n",
       "3526    108\n",
       "3527    118\n",
       "3528    114\n",
       "3529    105\n",
       "3530    163\n",
       "Name: movie_duration, Length: 3531, dtype: int64"
      ]
     },
     "execution_count": 137,
     "metadata": {},
     "output_type": "execute_result"
    }
   ],
   "source": [
    "df.movie_duration"
   ]
  },
  {
   "cell_type": "code",
   "execution_count": 138,
   "id": "e4984ddf",
   "metadata": {},
   "outputs": [
    {
     "data": {
      "text/html": [
       "<div>\n",
       "<style scoped>\n",
       "    .dataframe tbody tr th:only-of-type {\n",
       "        vertical-align: middle;\n",
       "    }\n",
       "\n",
       "    .dataframe tbody tr th {\n",
       "        vertical-align: top;\n",
       "    }\n",
       "\n",
       "    .dataframe thead th {\n",
       "        text-align: right;\n",
       "    }\n",
       "</style>\n",
       "<table border=\"1\" class=\"dataframe\">\n",
       "  <thead>\n",
       "    <tr style=\"text-align: right;\">\n",
       "      <th></th>\n",
       "      <th>title</th>\n",
       "      <th>release_year</th>\n",
       "      <th>parental_rating</th>\n",
       "      <th>movie_duration</th>\n",
       "      <th>movie_rating</th>\n",
       "      <th>description</th>\n",
       "      <th>genres</th>\n",
       "      <th>budget</th>\n",
       "      <th>gross_na</th>\n",
       "      <th>gross_worldwide</th>\n",
       "    </tr>\n",
       "  </thead>\n",
       "  <tbody>\n",
       "    <tr>\n",
       "      <th>0</th>\n",
       "      <td>Our Drawings</td>\n",
       "      <td>2023</td>\n",
       "      <td>TV-MA</td>\n",
       "      <td>61</td>\n",
       "      <td>1.2</td>\n",
       "      <td>Paige Foster, discovers a mysterious intruder ...</td>\n",
       "      <td>Animation,Adventure</td>\n",
       "      <td>NaN</td>\n",
       "      <td>NaN</td>\n",
       "      <td>NaN</td>\n",
       "    </tr>\n",
       "    <tr>\n",
       "      <th>1</th>\n",
       "      <td>Clownfish</td>\n",
       "      <td>2010</td>\n",
       "      <td>NaN</td>\n",
       "      <td>83</td>\n",
       "      <td>1.2</td>\n",
       "      <td>A fish stuck in a fish pond does not have the ...</td>\n",
       "      <td>Drama,Romance</td>\n",
       "      <td>NaN</td>\n",
       "      <td>NaN</td>\n",
       "      <td>NaN</td>\n",
       "    </tr>\n",
       "    <tr>\n",
       "      <th>2</th>\n",
       "      <td>American Fiction</td>\n",
       "      <td>2023</td>\n",
       "      <td>R</td>\n",
       "      <td>117</td>\n",
       "      <td>7.5</td>\n",
       "      <td>A novelist who's fed up with the establishment...</td>\n",
       "      <td>Comedy,Drama</td>\n",
       "      <td>$21,098,470</td>\n",
       "      <td>$224,469</td>\n",
       "      <td>$22,483,370</td>\n",
       "    </tr>\n",
       "    <tr>\n",
       "      <th>3</th>\n",
       "      <td>Manos: The Hands of Fate</td>\n",
       "      <td>1966</td>\n",
       "      <td>Not Rated</td>\n",
       "      <td>70</td>\n",
       "      <td>1.6</td>\n",
       "      <td>A family gets lost on the road and stumbles up...</td>\n",
       "      <td>Horror</td>\n",
       "      <td>$19,000 (estimated)</td>\n",
       "      <td>NaN</td>\n",
       "      <td>NaN</td>\n",
       "    </tr>\n",
       "    <tr>\n",
       "      <th>4</th>\n",
       "      <td>Kingdom of Gladiators</td>\n",
       "      <td>2011</td>\n",
       "      <td>Not Rated</td>\n",
       "      <td>85</td>\n",
       "      <td>1.7</td>\n",
       "      <td>A king makes a pact with an ancient demon and ...</td>\n",
       "      <td>Action,Adventure,Fantasy</td>\n",
       "      <td>$3,000,000 (estimated)</td>\n",
       "      <td>NaN</td>\n",
       "      <td>NaN</td>\n",
       "    </tr>\n",
       "  </tbody>\n",
       "</table>\n",
       "</div>"
      ],
      "text/plain": [
       "                      title  release_year parental_rating  movie_duration  \\\n",
       "0              Our Drawings          2023           TV-MA              61   \n",
       "1                 Clownfish          2010             NaN              83   \n",
       "2          American Fiction          2023               R             117   \n",
       "3  Manos: The Hands of Fate          1966       Not Rated              70   \n",
       "4     Kingdom of Gladiators          2011       Not Rated              85   \n",
       "\n",
       "   movie_rating                                        description  \\\n",
       "0           1.2  Paige Foster, discovers a mysterious intruder ...   \n",
       "1           1.2  A fish stuck in a fish pond does not have the ...   \n",
       "2           7.5  A novelist who's fed up with the establishment...   \n",
       "3           1.6  A family gets lost on the road and stumbles up...   \n",
       "4           1.7  A king makes a pact with an ancient demon and ...   \n",
       "\n",
       "                     genres                  budget  gross_na gross_worldwide  \n",
       "0       Animation,Adventure                     NaN       NaN             NaN  \n",
       "1             Drama,Romance                     NaN       NaN             NaN  \n",
       "2              Comedy,Drama             $21,098,470  $224,469     $22,483,370  \n",
       "3                    Horror     $19,000 (estimated)       NaN             NaN  \n",
       "4  Action,Adventure,Fantasy  $3,000,000 (estimated)       NaN             NaN  "
      ]
     },
     "execution_count": 138,
     "metadata": {},
     "output_type": "execute_result"
    }
   ],
   "source": [
    "df.head()"
   ]
  },
  {
   "cell_type": "markdown",
   "id": "35b06207",
   "metadata": {},
   "source": [
    "#### Process Textual Data"
   ]
  },
  {
   "cell_type": "code",
   "execution_count": 139,
   "id": "56fbd8d9",
   "metadata": {},
   "outputs": [
    {
     "name": "stderr",
     "output_type": "stream",
     "text": [
      "[nltk_data] Downloading package stopwords to\n",
      "[nltk_data]     /Users/samuelleung/nltk_data...\n",
      "[nltk_data]   Package stopwords is already up-to-date!\n"
     ]
    },
    {
     "data": {
      "text/plain": [
       "True"
      ]
     },
     "execution_count": 139,
     "metadata": {},
     "output_type": "execute_result"
    }
   ],
   "source": [
    "import nltk\n",
    "nltk.download('stopwords')"
   ]
  },
  {
   "cell_type": "code",
   "execution_count": 140,
   "id": "c4385e0f",
   "metadata": {},
   "outputs": [
    {
     "name": "stdout",
     "output_type": "stream",
     "text": [
      "['i', 'me', 'my', 'myself', 'we', 'our', 'ours', 'ourselves', 'you', \"you're\"]\n"
     ]
    }
   ],
   "source": [
    "print(stopwords.words('english')[:10])"
   ]
  },
  {
   "cell_type": "code",
   "execution_count": 141,
   "id": "bdb04b64",
   "metadata": {},
   "outputs": [],
   "source": [
    "# Stemming words\n",
    "port_stem = PorterStemmer()"
   ]
  },
  {
   "cell_type": "code",
   "execution_count": 142,
   "id": "dfcf7e7a",
   "metadata": {},
   "outputs": [],
   "source": [
    "def to_stem(content):\n",
    "    stemmed_content = re.sub('[^a-zA-Z]', ' ', str(content))\n",
    "    stemmed_content = stemmed_content.lower()\n",
    "    stemmed_content = stemmed_content.split()\n",
    "    stemmed_content = [port_stem.stem(word) for word in stemmed_content if word not in stopwords.words('english')]\n",
    "    stemmed_content = ' '.join(stemmed_content)\n",
    "    return stemmed_content"
   ]
  },
  {
   "cell_type": "code",
   "execution_count": 143,
   "id": "34aedf1b",
   "metadata": {},
   "outputs": [],
   "source": [
    "df['description'] = df['description'].apply(to_stem)"
   ]
  },
  {
   "cell_type": "code",
   "execution_count": 144,
   "id": "ac9dfb1d",
   "metadata": {},
   "outputs": [
    {
     "data": {
      "text/plain": [
       "0       paig foster discov mysteri intrud insid artwor...\n",
       "1       fish stuck fish pond luxuri swim around freeli...\n",
       "2       novelist fed establish profit black entertain ...\n",
       "3       famili get lost road stumbl upon hidden underg...\n",
       "4       king make pact ancient demon year rule kingdom...\n",
       "                              ...                        \n",
       "3526    young programm select particip ground break ex...\n",
       "3527    tom ripley talent mimic moocher forger around ...\n",
       "3528    group young misfit call gooni discov ancient m...\n",
       "3529    screenwrit drawn back childhood home enter fle...\n",
       "3530    ethan hunt imf team must track danger weapon f...\n",
       "Name: description, Length: 3531, dtype: object"
      ]
     },
     "execution_count": 144,
     "metadata": {},
     "output_type": "execute_result"
    }
   ],
   "source": [
    "df['description']"
   ]
  },
  {
   "cell_type": "code",
   "execution_count": 145,
   "id": "b9b66b2c",
   "metadata": {
    "scrolled": true
   },
   "outputs": [
    {
     "data": {
      "text/html": [
       "<div>\n",
       "<style scoped>\n",
       "    .dataframe tbody tr th:only-of-type {\n",
       "        vertical-align: middle;\n",
       "    }\n",
       "\n",
       "    .dataframe tbody tr th {\n",
       "        vertical-align: top;\n",
       "    }\n",
       "\n",
       "    .dataframe thead th {\n",
       "        text-align: right;\n",
       "    }\n",
       "</style>\n",
       "<table border=\"1\" class=\"dataframe\">\n",
       "  <thead>\n",
       "    <tr style=\"text-align: right;\">\n",
       "      <th></th>\n",
       "      <th>title</th>\n",
       "      <th>release_year</th>\n",
       "      <th>parental_rating</th>\n",
       "      <th>movie_duration</th>\n",
       "      <th>movie_rating</th>\n",
       "      <th>description</th>\n",
       "      <th>genres</th>\n",
       "      <th>budget</th>\n",
       "      <th>gross_na</th>\n",
       "      <th>gross_worldwide</th>\n",
       "      <th>...</th>\n",
       "      <th>desc_recur</th>\n",
       "      <th>desc_tur</th>\n",
       "      <th>desc_qualiti</th>\n",
       "      <th>desc_mimic</th>\n",
       "      <th>desc_moocher</th>\n",
       "      <th>desc_improvis</th>\n",
       "      <th>desc_guess</th>\n",
       "      <th>desc_gooni</th>\n",
       "      <th>desc_downstair</th>\n",
       "      <th>desc_ye</th>\n",
       "    </tr>\n",
       "  </thead>\n",
       "  <tbody>\n",
       "    <tr>\n",
       "      <th>0</th>\n",
       "      <td>Our Drawings</td>\n",
       "      <td>2023</td>\n",
       "      <td>TV-MA</td>\n",
       "      <td>61</td>\n",
       "      <td>1.2</td>\n",
       "      <td>paig foster discov mysteri intrud insid artwor...</td>\n",
       "      <td>Animation,Adventure</td>\n",
       "      <td>NaN</td>\n",
       "      <td>NaN</td>\n",
       "      <td>NaN</td>\n",
       "      <td>...</td>\n",
       "      <td>0.0</td>\n",
       "      <td>0.0</td>\n",
       "      <td>0.0</td>\n",
       "      <td>0.0</td>\n",
       "      <td>0.0</td>\n",
       "      <td>0.0</td>\n",
       "      <td>0.0</td>\n",
       "      <td>0.0</td>\n",
       "      <td>0.0</td>\n",
       "      <td>0.0</td>\n",
       "    </tr>\n",
       "    <tr>\n",
       "      <th>1</th>\n",
       "      <td>Clownfish</td>\n",
       "      <td>2010</td>\n",
       "      <td>NaN</td>\n",
       "      <td>83</td>\n",
       "      <td>1.2</td>\n",
       "      <td>fish stuck fish pond luxuri swim around freeli...</td>\n",
       "      <td>Drama,Romance</td>\n",
       "      <td>NaN</td>\n",
       "      <td>NaN</td>\n",
       "      <td>NaN</td>\n",
       "      <td>...</td>\n",
       "      <td>0.0</td>\n",
       "      <td>0.0</td>\n",
       "      <td>0.0</td>\n",
       "      <td>0.0</td>\n",
       "      <td>0.0</td>\n",
       "      <td>0.0</td>\n",
       "      <td>0.0</td>\n",
       "      <td>0.0</td>\n",
       "      <td>0.0</td>\n",
       "      <td>0.0</td>\n",
       "    </tr>\n",
       "    <tr>\n",
       "      <th>2</th>\n",
       "      <td>American Fiction</td>\n",
       "      <td>2023</td>\n",
       "      <td>R</td>\n",
       "      <td>117</td>\n",
       "      <td>7.5</td>\n",
       "      <td>novelist fed establish profit black entertain ...</td>\n",
       "      <td>Comedy,Drama</td>\n",
       "      <td>$21,098,470</td>\n",
       "      <td>$224,469</td>\n",
       "      <td>$22,483,370</td>\n",
       "      <td>...</td>\n",
       "      <td>0.0</td>\n",
       "      <td>0.0</td>\n",
       "      <td>0.0</td>\n",
       "      <td>0.0</td>\n",
       "      <td>0.0</td>\n",
       "      <td>0.0</td>\n",
       "      <td>0.0</td>\n",
       "      <td>0.0</td>\n",
       "      <td>0.0</td>\n",
       "      <td>0.0</td>\n",
       "    </tr>\n",
       "    <tr>\n",
       "      <th>3</th>\n",
       "      <td>Manos: The Hands of Fate</td>\n",
       "      <td>1966</td>\n",
       "      <td>Not Rated</td>\n",
       "      <td>70</td>\n",
       "      <td>1.6</td>\n",
       "      <td>famili get lost road stumbl upon hidden underg...</td>\n",
       "      <td>Horror</td>\n",
       "      <td>$19,000 (estimated)</td>\n",
       "      <td>NaN</td>\n",
       "      <td>NaN</td>\n",
       "      <td>...</td>\n",
       "      <td>0.0</td>\n",
       "      <td>0.0</td>\n",
       "      <td>0.0</td>\n",
       "      <td>0.0</td>\n",
       "      <td>0.0</td>\n",
       "      <td>0.0</td>\n",
       "      <td>0.0</td>\n",
       "      <td>0.0</td>\n",
       "      <td>0.0</td>\n",
       "      <td>0.0</td>\n",
       "    </tr>\n",
       "    <tr>\n",
       "      <th>4</th>\n",
       "      <td>Kingdom of Gladiators</td>\n",
       "      <td>2011</td>\n",
       "      <td>Not Rated</td>\n",
       "      <td>85</td>\n",
       "      <td>1.7</td>\n",
       "      <td>king make pact ancient demon year rule kingdom...</td>\n",
       "      <td>Action,Adventure,Fantasy</td>\n",
       "      <td>$3,000,000 (estimated)</td>\n",
       "      <td>NaN</td>\n",
       "      <td>NaN</td>\n",
       "      <td>...</td>\n",
       "      <td>0.0</td>\n",
       "      <td>0.0</td>\n",
       "      <td>0.0</td>\n",
       "      <td>0.0</td>\n",
       "      <td>0.0</td>\n",
       "      <td>0.0</td>\n",
       "      <td>0.0</td>\n",
       "      <td>0.0</td>\n",
       "      <td>0.0</td>\n",
       "      <td>0.0</td>\n",
       "    </tr>\n",
       "  </tbody>\n",
       "</table>\n",
       "<p>5 rows × 8727 columns</p>\n",
       "</div>"
      ],
      "text/plain": [
       "                      title  release_year parental_rating  movie_duration  \\\n",
       "0              Our Drawings          2023           TV-MA              61   \n",
       "1                 Clownfish          2010             NaN              83   \n",
       "2          American Fiction          2023               R             117   \n",
       "3  Manos: The Hands of Fate          1966       Not Rated              70   \n",
       "4     Kingdom of Gladiators          2011       Not Rated              85   \n",
       "\n",
       "   movie_rating                                        description  \\\n",
       "0           1.2  paig foster discov mysteri intrud insid artwor...   \n",
       "1           1.2  fish stuck fish pond luxuri swim around freeli...   \n",
       "2           7.5  novelist fed establish profit black entertain ...   \n",
       "3           1.6  famili get lost road stumbl upon hidden underg...   \n",
       "4           1.7  king make pact ancient demon year rule kingdom...   \n",
       "\n",
       "                     genres                  budget  gross_na gross_worldwide  \\\n",
       "0       Animation,Adventure                     NaN       NaN             NaN   \n",
       "1             Drama,Romance                     NaN       NaN             NaN   \n",
       "2              Comedy,Drama             $21,098,470  $224,469     $22,483,370   \n",
       "3                    Horror     $19,000 (estimated)       NaN             NaN   \n",
       "4  Action,Adventure,Fantasy  $3,000,000 (estimated)       NaN             NaN   \n",
       "\n",
       "   ...  desc_recur  desc_tur  desc_qualiti  desc_mimic  desc_moocher  \\\n",
       "0  ...         0.0       0.0           0.0         0.0           0.0   \n",
       "1  ...         0.0       0.0           0.0         0.0           0.0   \n",
       "2  ...         0.0       0.0           0.0         0.0           0.0   \n",
       "3  ...         0.0       0.0           0.0         0.0           0.0   \n",
       "4  ...         0.0       0.0           0.0         0.0           0.0   \n",
       "\n",
       "   desc_improvis  desc_guess  desc_gooni  desc_downstair  desc_ye  \n",
       "0            0.0         0.0         0.0             0.0      0.0  \n",
       "1            0.0         0.0         0.0             0.0      0.0  \n",
       "2            0.0         0.0         0.0             0.0      0.0  \n",
       "3            0.0         0.0         0.0             0.0      0.0  \n",
       "4            0.0         0.0         0.0             0.0      0.0  \n",
       "\n",
       "[5 rows x 8727 columns]"
      ]
     },
     "execution_count": 145,
     "metadata": {},
     "output_type": "execute_result"
    }
   ],
   "source": [
    "# Vectorization\n",
    "vectorizer = TfidfVectorizer()\n",
    "vec_mat = vectorizer.fit_transform(df['description'].values)\n",
    "X_text = pd.DataFrame(vec_mat.todense(), columns=vectorizer.vocabulary_)  # Converts to dataframe\n",
    "X_text.columns = 'desc_' + X_text.columns\n",
    "df = pd.concat([df,X_text], axis=1)\n",
    "df.head()"
   ]
  },
  {
   "cell_type": "markdown",
   "id": "0bb79c5f",
   "metadata": {},
   "source": [
    "### 3. Data Analysis and Visualization"
   ]
  },
  {
   "cell_type": "code",
   "execution_count": 146,
   "id": "f5951778",
   "metadata": {},
   "outputs": [
    {
     "data": {
      "text/html": [
       "<div>\n",
       "<style scoped>\n",
       "    .dataframe tbody tr th:only-of-type {\n",
       "        vertical-align: middle;\n",
       "    }\n",
       "\n",
       "    .dataframe tbody tr th {\n",
       "        vertical-align: top;\n",
       "    }\n",
       "\n",
       "    .dataframe thead th {\n",
       "        text-align: right;\n",
       "    }\n",
       "</style>\n",
       "<table border=\"1\" class=\"dataframe\">\n",
       "  <thead>\n",
       "    <tr style=\"text-align: right;\">\n",
       "      <th></th>\n",
       "      <th>release_year</th>\n",
       "      <th>movie_duration</th>\n",
       "      <th>movie_rating</th>\n",
       "      <th>desc_paig</th>\n",
       "      <th>desc_foster</th>\n",
       "      <th>desc_discov</th>\n",
       "      <th>desc_mysteri</th>\n",
       "      <th>desc_intrud</th>\n",
       "      <th>desc_insid</th>\n",
       "      <th>desc_artwork</th>\n",
       "      <th>...</th>\n",
       "      <th>desc_recur</th>\n",
       "      <th>desc_tur</th>\n",
       "      <th>desc_qualiti</th>\n",
       "      <th>desc_mimic</th>\n",
       "      <th>desc_moocher</th>\n",
       "      <th>desc_improvis</th>\n",
       "      <th>desc_guess</th>\n",
       "      <th>desc_gooni</th>\n",
       "      <th>desc_downstair</th>\n",
       "      <th>desc_ye</th>\n",
       "    </tr>\n",
       "  </thead>\n",
       "  <tbody>\n",
       "    <tr>\n",
       "      <th>count</th>\n",
       "      <td>3531.000000</td>\n",
       "      <td>3531.000000</td>\n",
       "      <td>3531.000000</td>\n",
       "      <td>3531.000000</td>\n",
       "      <td>3531.000000</td>\n",
       "      <td>3531.000000</td>\n",
       "      <td>3531.000000</td>\n",
       "      <td>3531.000000</td>\n",
       "      <td>3531.000000</td>\n",
       "      <td>3531.000000</td>\n",
       "      <td>...</td>\n",
       "      <td>3531.000000</td>\n",
       "      <td>3531.000000</td>\n",
       "      <td>3531.000000</td>\n",
       "      <td>3531.000000</td>\n",
       "      <td>3531.000000</td>\n",
       "      <td>3531.000000</td>\n",
       "      <td>3531.000000</td>\n",
       "      <td>3531.000000</td>\n",
       "      <td>3531.000000</td>\n",
       "      <td>3531.000000</td>\n",
       "    </tr>\n",
       "    <tr>\n",
       "      <th>mean</th>\n",
       "      <td>2008.463042</td>\n",
       "      <td>103.584537</td>\n",
       "      <td>4.832965</td>\n",
       "      <td>0.000089</td>\n",
       "      <td>0.000095</td>\n",
       "      <td>0.000082</td>\n",
       "      <td>0.000100</td>\n",
       "      <td>0.000087</td>\n",
       "      <td>0.001871</td>\n",
       "      <td>0.000117</td>\n",
       "      <td>...</td>\n",
       "      <td>0.000436</td>\n",
       "      <td>0.000108</td>\n",
       "      <td>0.000080</td>\n",
       "      <td>0.000087</td>\n",
       "      <td>0.000176</td>\n",
       "      <td>0.000148</td>\n",
       "      <td>0.000091</td>\n",
       "      <td>0.000081</td>\n",
       "      <td>0.000082</td>\n",
       "      <td>0.000088</td>\n",
       "    </tr>\n",
       "    <tr>\n",
       "      <th>std</th>\n",
       "      <td>16.551336</td>\n",
       "      <td>23.634082</td>\n",
       "      <td>2.115398</td>\n",
       "      <td>0.005300</td>\n",
       "      <td>0.005638</td>\n",
       "      <td>0.004853</td>\n",
       "      <td>0.005955</td>\n",
       "      <td>0.005197</td>\n",
       "      <td>0.021726</td>\n",
       "      <td>0.006971</td>\n",
       "      <td>...</td>\n",
       "      <td>0.011634</td>\n",
       "      <td>0.006407</td>\n",
       "      <td>0.004734</td>\n",
       "      <td>0.005177</td>\n",
       "      <td>0.007382</td>\n",
       "      <td>0.008796</td>\n",
       "      <td>0.005431</td>\n",
       "      <td>0.004817</td>\n",
       "      <td>0.004865</td>\n",
       "      <td>0.005205</td>\n",
       "    </tr>\n",
       "    <tr>\n",
       "      <th>min</th>\n",
       "      <td>1917.000000</td>\n",
       "      <td>43.000000</td>\n",
       "      <td>1.000000</td>\n",
       "      <td>0.000000</td>\n",
       "      <td>0.000000</td>\n",
       "      <td>0.000000</td>\n",
       "      <td>0.000000</td>\n",
       "      <td>0.000000</td>\n",
       "      <td>0.000000</td>\n",
       "      <td>0.000000</td>\n",
       "      <td>...</td>\n",
       "      <td>0.000000</td>\n",
       "      <td>0.000000</td>\n",
       "      <td>0.000000</td>\n",
       "      <td>0.000000</td>\n",
       "      <td>0.000000</td>\n",
       "      <td>0.000000</td>\n",
       "      <td>0.000000</td>\n",
       "      <td>0.000000</td>\n",
       "      <td>0.000000</td>\n",
       "      <td>0.000000</td>\n",
       "    </tr>\n",
       "    <tr>\n",
       "      <th>25%</th>\n",
       "      <td>2001.000000</td>\n",
       "      <td>89.000000</td>\n",
       "      <td>3.000000</td>\n",
       "      <td>0.000000</td>\n",
       "      <td>0.000000</td>\n",
       "      <td>0.000000</td>\n",
       "      <td>0.000000</td>\n",
       "      <td>0.000000</td>\n",
       "      <td>0.000000</td>\n",
       "      <td>0.000000</td>\n",
       "      <td>...</td>\n",
       "      <td>0.000000</td>\n",
       "      <td>0.000000</td>\n",
       "      <td>0.000000</td>\n",
       "      <td>0.000000</td>\n",
       "      <td>0.000000</td>\n",
       "      <td>0.000000</td>\n",
       "      <td>0.000000</td>\n",
       "      <td>0.000000</td>\n",
       "      <td>0.000000</td>\n",
       "      <td>0.000000</td>\n",
       "    </tr>\n",
       "    <tr>\n",
       "      <th>50%</th>\n",
       "      <td>2014.000000</td>\n",
       "      <td>98.000000</td>\n",
       "      <td>4.800000</td>\n",
       "      <td>0.000000</td>\n",
       "      <td>0.000000</td>\n",
       "      <td>0.000000</td>\n",
       "      <td>0.000000</td>\n",
       "      <td>0.000000</td>\n",
       "      <td>0.000000</td>\n",
       "      <td>0.000000</td>\n",
       "      <td>...</td>\n",
       "      <td>0.000000</td>\n",
       "      <td>0.000000</td>\n",
       "      <td>0.000000</td>\n",
       "      <td>0.000000</td>\n",
       "      <td>0.000000</td>\n",
       "      <td>0.000000</td>\n",
       "      <td>0.000000</td>\n",
       "      <td>0.000000</td>\n",
       "      <td>0.000000</td>\n",
       "      <td>0.000000</td>\n",
       "    </tr>\n",
       "    <tr>\n",
       "      <th>75%</th>\n",
       "      <td>2021.000000</td>\n",
       "      <td>114.000000</td>\n",
       "      <td>6.600000</td>\n",
       "      <td>0.000000</td>\n",
       "      <td>0.000000</td>\n",
       "      <td>0.000000</td>\n",
       "      <td>0.000000</td>\n",
       "      <td>0.000000</td>\n",
       "      <td>0.000000</td>\n",
       "      <td>0.000000</td>\n",
       "      <td>...</td>\n",
       "      <td>0.000000</td>\n",
       "      <td>0.000000</td>\n",
       "      <td>0.000000</td>\n",
       "      <td>0.000000</td>\n",
       "      <td>0.000000</td>\n",
       "      <td>0.000000</td>\n",
       "      <td>0.000000</td>\n",
       "      <td>0.000000</td>\n",
       "      <td>0.000000</td>\n",
       "      <td>0.000000</td>\n",
       "    </tr>\n",
       "    <tr>\n",
       "      <th>max</th>\n",
       "      <td>2024.000000</td>\n",
       "      <td>354.000000</td>\n",
       "      <td>9.300000</td>\n",
       "      <td>0.314944</td>\n",
       "      <td>0.335009</td>\n",
       "      <td>0.288357</td>\n",
       "      <td>0.353877</td>\n",
       "      <td>0.308847</td>\n",
       "      <td>0.372854</td>\n",
       "      <td>0.414219</td>\n",
       "      <td>...</td>\n",
       "      <td>0.360127</td>\n",
       "      <td>0.380744</td>\n",
       "      <td>0.281279</td>\n",
       "      <td>0.307624</td>\n",
       "      <td>0.320020</td>\n",
       "      <td>0.522704</td>\n",
       "      <td>0.322736</td>\n",
       "      <td>0.286256</td>\n",
       "      <td>0.289072</td>\n",
       "      <td>0.309265</td>\n",
       "    </tr>\n",
       "  </tbody>\n",
       "</table>\n",
       "<p>8 rows × 8720 columns</p>\n",
       "</div>"
      ],
      "text/plain": [
       "       release_year  movie_duration  movie_rating    desc_paig  desc_foster  \\\n",
       "count   3531.000000     3531.000000   3531.000000  3531.000000  3531.000000   \n",
       "mean    2008.463042      103.584537      4.832965     0.000089     0.000095   \n",
       "std       16.551336       23.634082      2.115398     0.005300     0.005638   \n",
       "min     1917.000000       43.000000      1.000000     0.000000     0.000000   \n",
       "25%     2001.000000       89.000000      3.000000     0.000000     0.000000   \n",
       "50%     2014.000000       98.000000      4.800000     0.000000     0.000000   \n",
       "75%     2021.000000      114.000000      6.600000     0.000000     0.000000   \n",
       "max     2024.000000      354.000000      9.300000     0.314944     0.335009   \n",
       "\n",
       "       desc_discov  desc_mysteri  desc_intrud   desc_insid  desc_artwork  ...  \\\n",
       "count  3531.000000   3531.000000  3531.000000  3531.000000   3531.000000  ...   \n",
       "mean      0.000082      0.000100     0.000087     0.001871      0.000117  ...   \n",
       "std       0.004853      0.005955     0.005197     0.021726      0.006971  ...   \n",
       "min       0.000000      0.000000     0.000000     0.000000      0.000000  ...   \n",
       "25%       0.000000      0.000000     0.000000     0.000000      0.000000  ...   \n",
       "50%       0.000000      0.000000     0.000000     0.000000      0.000000  ...   \n",
       "75%       0.000000      0.000000     0.000000     0.000000      0.000000  ...   \n",
       "max       0.288357      0.353877     0.308847     0.372854      0.414219  ...   \n",
       "\n",
       "        desc_recur     desc_tur  desc_qualiti   desc_mimic  desc_moocher  \\\n",
       "count  3531.000000  3531.000000   3531.000000  3531.000000   3531.000000   \n",
       "mean      0.000436     0.000108      0.000080     0.000087      0.000176   \n",
       "std       0.011634     0.006407      0.004734     0.005177      0.007382   \n",
       "min       0.000000     0.000000      0.000000     0.000000      0.000000   \n",
       "25%       0.000000     0.000000      0.000000     0.000000      0.000000   \n",
       "50%       0.000000     0.000000      0.000000     0.000000      0.000000   \n",
       "75%       0.000000     0.000000      0.000000     0.000000      0.000000   \n",
       "max       0.360127     0.380744      0.281279     0.307624      0.320020   \n",
       "\n",
       "       desc_improvis   desc_guess   desc_gooni  desc_downstair      desc_ye  \n",
       "count    3531.000000  3531.000000  3531.000000     3531.000000  3531.000000  \n",
       "mean        0.000148     0.000091     0.000081        0.000082     0.000088  \n",
       "std         0.008796     0.005431     0.004817        0.004865     0.005205  \n",
       "min         0.000000     0.000000     0.000000        0.000000     0.000000  \n",
       "25%         0.000000     0.000000     0.000000        0.000000     0.000000  \n",
       "50%         0.000000     0.000000     0.000000        0.000000     0.000000  \n",
       "75%         0.000000     0.000000     0.000000        0.000000     0.000000  \n",
       "max         0.522704     0.322736     0.286256        0.289072     0.309265  \n",
       "\n",
       "[8 rows x 8720 columns]"
      ]
     },
     "execution_count": 146,
     "metadata": {},
     "output_type": "execute_result"
    }
   ],
   "source": [
    "df.describe()"
   ]
  },
  {
   "cell_type": "code",
   "execution_count": 147,
   "id": "b24f75a7",
   "metadata": {},
   "outputs": [
    {
     "data": {
      "text/plain": [
       "(array([315., 382., 394., 446., 390., 392., 428., 383., 343.,  58.]),\n",
       " array([1.  , 1.83, 2.66, 3.49, 4.32, 5.15, 5.98, 6.81, 7.64, 8.47, 9.3 ]),\n",
       " <BarContainer object of 10 artists>)"
      ]
     },
     "execution_count": 147,
     "metadata": {},
     "output_type": "execute_result"
    },
    {
     "data": {
      "image/png": "[encoded data removed]",
      "text/plain": [
       "<Figure size 640x480 with 1 Axes>"
      ]
     },
     "metadata": {},
     "output_type": "display_data"
    }
   ],
   "source": [
    "# Distribution of ratings\n",
    "plt.hist(x='movie_rating', data=df)"
   ]
  },
  {
   "cell_type": "code",
   "execution_count": 148,
   "id": "ae7529c4",
   "metadata": {
    "scrolled": false
   },
   "outputs": [
    {
     "data": {
      "text/html": [
       "<div>\n",
       "<style scoped>\n",
       "    .dataframe tbody tr th:only-of-type {\n",
       "        vertical-align: middle;\n",
       "    }\n",
       "\n",
       "    .dataframe tbody tr th {\n",
       "        vertical-align: top;\n",
       "    }\n",
       "\n",
       "    .dataframe thead th {\n",
       "        text-align: right;\n",
       "    }\n",
       "</style>\n",
       "<table border=\"1\" class=\"dataframe\">\n",
       "  <thead>\n",
       "    <tr style=\"text-align: right;\">\n",
       "      <th></th>\n",
       "      <th>release_year</th>\n",
       "      <th>movie_duration</th>\n",
       "      <th>movie_rating</th>\n",
       "    </tr>\n",
       "  </thead>\n",
       "  <tbody>\n",
       "    <tr>\n",
       "      <th>release_year</th>\n",
       "      <td>1.000000</td>\n",
       "      <td>-0.032880</td>\n",
       "      <td>-0.182967</td>\n",
       "    </tr>\n",
       "    <tr>\n",
       "      <th>movie_duration</th>\n",
       "      <td>-0.032880</td>\n",
       "      <td>1.000000</td>\n",
       "      <td>0.552251</td>\n",
       "    </tr>\n",
       "    <tr>\n",
       "      <th>movie_rating</th>\n",
       "      <td>-0.182967</td>\n",
       "      <td>0.552251</td>\n",
       "      <td>1.000000</td>\n",
       "    </tr>\n",
       "  </tbody>\n",
       "</table>\n",
       "</div>"
      ],
      "text/plain": [
       "                release_year  movie_duration  movie_rating\n",
       "release_year        1.000000       -0.032880     -0.182967\n",
       "movie_duration     -0.032880        1.000000      0.552251\n",
       "movie_rating       -0.182967        0.552251      1.000000"
      ]
     },
     "execution_count": 148,
     "metadata": {},
     "output_type": "execute_result"
    }
   ],
   "source": [
    "df[['release_year', 'movie_duration','movie_rating']].corr()"
   ]
  },
  {
   "cell_type": "markdown",
   "id": "6d9a4adf",
   "metadata": {},
   "source": [
    "### 4. Split Data"
   ]
  },
  {
   "cell_type": "code",
   "execution_count": 83,
   "id": "bd347abe",
   "metadata": {},
   "outputs": [],
   "source": [
    "num_predictors = ['release_year', 'movie_duration']"
   ]
  },
  {
   "cell_type": "code",
   "execution_count": 84,
   "id": "c231ba5d",
   "metadata": {},
   "outputs": [],
   "source": [
    "X = pd.concat([df[num_predictors],X_text], axis=1) # combine with description df\n",
    "y = df.movie_rating"
   ]
  },
  {
   "cell_type": "code",
   "execution_count": 85,
   "id": "40be9178",
   "metadata": {},
   "outputs": [
    {
     "data": {
      "text/html": [
       "<div>\n",
       "<style scoped>\n",
       "    .dataframe tbody tr th:only-of-type {\n",
       "        vertical-align: middle;\n",
       "    }\n",
       "\n",
       "    .dataframe tbody tr th {\n",
       "        vertical-align: top;\n",
       "    }\n",
       "\n",
       "    .dataframe thead th {\n",
       "        text-align: right;\n",
       "    }\n",
       "</style>\n",
       "<table border=\"1\" class=\"dataframe\">\n",
       "  <thead>\n",
       "    <tr style=\"text-align: right;\">\n",
       "      <th></th>\n",
       "      <th>release_year</th>\n",
       "      <th>movie_duration</th>\n",
       "      <th>desc_paig</th>\n",
       "      <th>desc_foster</th>\n",
       "      <th>desc_discov</th>\n",
       "      <th>desc_mysteri</th>\n",
       "      <th>desc_intrud</th>\n",
       "      <th>desc_insid</th>\n",
       "      <th>desc_artwork</th>\n",
       "      <th>desc_travel</th>\n",
       "      <th>...</th>\n",
       "      <th>desc_recur</th>\n",
       "      <th>desc_tur</th>\n",
       "      <th>desc_qualiti</th>\n",
       "      <th>desc_mimic</th>\n",
       "      <th>desc_moocher</th>\n",
       "      <th>desc_improvis</th>\n",
       "      <th>desc_guess</th>\n",
       "      <th>desc_gooni</th>\n",
       "      <th>desc_downstair</th>\n",
       "      <th>desc_ye</th>\n",
       "    </tr>\n",
       "  </thead>\n",
       "  <tbody>\n",
       "    <tr>\n",
       "      <th>0</th>\n",
       "      <td>2023</td>\n",
       "      <td>61</td>\n",
       "      <td>0.0</td>\n",
       "      <td>0.0</td>\n",
       "      <td>0.0</td>\n",
       "      <td>0.0</td>\n",
       "      <td>0.0</td>\n",
       "      <td>0.0</td>\n",
       "      <td>0.0</td>\n",
       "      <td>0.0</td>\n",
       "      <td>...</td>\n",
       "      <td>0.0</td>\n",
       "      <td>0.0</td>\n",
       "      <td>0.0</td>\n",
       "      <td>0.0</td>\n",
       "      <td>0.0</td>\n",
       "      <td>0.0</td>\n",
       "      <td>0.0</td>\n",
       "      <td>0.0</td>\n",
       "      <td>0.0</td>\n",
       "      <td>0.0</td>\n",
       "    </tr>\n",
       "    <tr>\n",
       "      <th>1</th>\n",
       "      <td>2010</td>\n",
       "      <td>83</td>\n",
       "      <td>0.0</td>\n",
       "      <td>0.0</td>\n",
       "      <td>0.0</td>\n",
       "      <td>0.0</td>\n",
       "      <td>0.0</td>\n",
       "      <td>0.0</td>\n",
       "      <td>0.0</td>\n",
       "      <td>0.0</td>\n",
       "      <td>...</td>\n",
       "      <td>0.0</td>\n",
       "      <td>0.0</td>\n",
       "      <td>0.0</td>\n",
       "      <td>0.0</td>\n",
       "      <td>0.0</td>\n",
       "      <td>0.0</td>\n",
       "      <td>0.0</td>\n",
       "      <td>0.0</td>\n",
       "      <td>0.0</td>\n",
       "      <td>0.0</td>\n",
       "    </tr>\n",
       "    <tr>\n",
       "      <th>2</th>\n",
       "      <td>2023</td>\n",
       "      <td>117</td>\n",
       "      <td>0.0</td>\n",
       "      <td>0.0</td>\n",
       "      <td>0.0</td>\n",
       "      <td>0.0</td>\n",
       "      <td>0.0</td>\n",
       "      <td>0.0</td>\n",
       "      <td>0.0</td>\n",
       "      <td>0.0</td>\n",
       "      <td>...</td>\n",
       "      <td>0.0</td>\n",
       "      <td>0.0</td>\n",
       "      <td>0.0</td>\n",
       "      <td>0.0</td>\n",
       "      <td>0.0</td>\n",
       "      <td>0.0</td>\n",
       "      <td>0.0</td>\n",
       "      <td>0.0</td>\n",
       "      <td>0.0</td>\n",
       "      <td>0.0</td>\n",
       "    </tr>\n",
       "    <tr>\n",
       "      <th>3</th>\n",
       "      <td>1966</td>\n",
       "      <td>70</td>\n",
       "      <td>0.0</td>\n",
       "      <td>0.0</td>\n",
       "      <td>0.0</td>\n",
       "      <td>0.0</td>\n",
       "      <td>0.0</td>\n",
       "      <td>0.0</td>\n",
       "      <td>0.0</td>\n",
       "      <td>0.0</td>\n",
       "      <td>...</td>\n",
       "      <td>0.0</td>\n",
       "      <td>0.0</td>\n",
       "      <td>0.0</td>\n",
       "      <td>0.0</td>\n",
       "      <td>0.0</td>\n",
       "      <td>0.0</td>\n",
       "      <td>0.0</td>\n",
       "      <td>0.0</td>\n",
       "      <td>0.0</td>\n",
       "      <td>0.0</td>\n",
       "    </tr>\n",
       "    <tr>\n",
       "      <th>4</th>\n",
       "      <td>2011</td>\n",
       "      <td>85</td>\n",
       "      <td>0.0</td>\n",
       "      <td>0.0</td>\n",
       "      <td>0.0</td>\n",
       "      <td>0.0</td>\n",
       "      <td>0.0</td>\n",
       "      <td>0.0</td>\n",
       "      <td>0.0</td>\n",
       "      <td>0.0</td>\n",
       "      <td>...</td>\n",
       "      <td>0.0</td>\n",
       "      <td>0.0</td>\n",
       "      <td>0.0</td>\n",
       "      <td>0.0</td>\n",
       "      <td>0.0</td>\n",
       "      <td>0.0</td>\n",
       "      <td>0.0</td>\n",
       "      <td>0.0</td>\n",
       "      <td>0.0</td>\n",
       "      <td>0.0</td>\n",
       "    </tr>\n",
       "  </tbody>\n",
       "</table>\n",
       "<p>5 rows × 8719 columns</p>\n",
       "</div>"
      ],
      "text/plain": [
       "   release_year  movie_duration  desc_paig  desc_foster  desc_discov  \\\n",
       "0          2023              61        0.0          0.0          0.0   \n",
       "1          2010              83        0.0          0.0          0.0   \n",
       "2          2023             117        0.0          0.0          0.0   \n",
       "3          1966              70        0.0          0.0          0.0   \n",
       "4          2011              85        0.0          0.0          0.0   \n",
       "\n",
       "   desc_mysteri  desc_intrud  desc_insid  desc_artwork  desc_travel  ...  \\\n",
       "0           0.0          0.0         0.0           0.0          0.0  ...   \n",
       "1           0.0          0.0         0.0           0.0          0.0  ...   \n",
       "2           0.0          0.0         0.0           0.0          0.0  ...   \n",
       "3           0.0          0.0         0.0           0.0          0.0  ...   \n",
       "4           0.0          0.0         0.0           0.0          0.0  ...   \n",
       "\n",
       "   desc_recur  desc_tur  desc_qualiti  desc_mimic  desc_moocher  \\\n",
       "0         0.0       0.0           0.0         0.0           0.0   \n",
       "1         0.0       0.0           0.0         0.0           0.0   \n",
       "2         0.0       0.0           0.0         0.0           0.0   \n",
       "3         0.0       0.0           0.0         0.0           0.0   \n",
       "4         0.0       0.0           0.0         0.0           0.0   \n",
       "\n",
       "   desc_improvis  desc_guess  desc_gooni  desc_downstair  desc_ye  \n",
       "0            0.0         0.0         0.0             0.0      0.0  \n",
       "1            0.0         0.0         0.0             0.0      0.0  \n",
       "2            0.0         0.0         0.0             0.0      0.0  \n",
       "3            0.0         0.0         0.0             0.0      0.0  \n",
       "4            0.0         0.0         0.0             0.0      0.0  \n",
       "\n",
       "[5 rows x 8719 columns]"
      ]
     },
     "execution_count": 85,
     "metadata": {},
     "output_type": "execute_result"
    }
   ],
   "source": [
    "X.head()"
   ]
  },
  {
   "cell_type": "code",
   "execution_count": 98,
   "id": "e274879e",
   "metadata": {},
   "outputs": [],
   "source": [
    "X_train, X_test, y_train, y_test = train_test_split(X, y, train_size=0.8, random_state=2)"
   ]
  },
  {
   "cell_type": "code",
   "execution_count": 99,
   "id": "6038d8ec",
   "metadata": {},
   "outputs": [
    {
     "name": "stdout",
     "output_type": "stream",
     "text": [
      "(2824, 8719) (707, 8719) (2824,) (707,)\n"
     ]
    }
   ],
   "source": [
    "print(X_train.shape, X_test.shape, y_train.shape, y_test.shape)"
   ]
  },
  {
   "cell_type": "markdown",
   "id": "9cbf65ac",
   "metadata": {},
   "source": [
    "### 5. Train and Evaluate Models"
   ]
  },
  {
   "cell_type": "markdown",
   "id": "27775592",
   "metadata": {},
   "source": [
    "#### Lasso Regression"
   ]
  },
  {
   "cell_type": "code",
   "execution_count": 100,
   "id": "7c798d6c",
   "metadata": {},
   "outputs": [],
   "source": [
    "lasso_model = Lasso()"
   ]
  },
  {
   "cell_type": "code",
   "execution_count": 101,
   "id": "ed6d0646",
   "metadata": {
    "scrolled": true
   },
   "outputs": [
    {
     "data": {
      "text/html": [
       "<style>#sk-container-id-3 {color: black;}#sk-container-id-3 pre{padding: 0;}#sk-container-id-3 div.sk-toggleable {background-color: white;}#sk-container-id-3 label.sk-toggleable__label {cursor: pointer;display: block;width: 100%;margin-bottom: 0;padding: 0.3em;box-sizing: border-box;text-align: center;}#sk-container-id-3 label.sk-toggleable__label-arrow:before {content: \"▸\";float: left;margin-right: 0.25em;color: #696969;}#sk-container-id-3 label.sk-toggleable__label-arrow:hover:before {color: black;}#sk-container-id-3 div.sk-estimator:hover label.sk-toggleable__label-arrow:before {color: black;}#sk-container-id-3 div.sk-toggleable__content {max-height: 0;max-width: 0;overflow: hidden;text-align: left;background-color: #f0f8ff;}#sk-container-id-3 div.sk-toggleable__content pre {margin: 0.2em;color: black;border-radius: 0.25em;background-color: #f0f8ff;}#sk-container-id-3 input.sk-toggleable__control:checked~div.sk-toggleable__content {max-height: 200px;max-width: 100%;overflow: auto;}#sk-container-id-3 input.sk-toggleable__control:checked~label.sk-toggleable__label-arrow:before {content: \"▾\";}#sk-container-id-3 div.sk-estimator input.sk-toggleable__control:checked~label.sk-toggleable__label {background-color: #d4ebff;}#sk-container-id-3 div.sk-label input.sk-toggleable__control:checked~label.sk-toggleable__label {background-color: #d4ebff;}#sk-container-id-3 input.sk-hidden--visually {border: 0;clip: rect(1px 1px 1px 1px);clip: rect(1px, 1px, 1px, 1px);height: 1px;margin: -1px;overflow: hidden;padding: 0;position: absolute;width: 1px;}#sk-container-id-3 div.sk-estimator {font-family: monospace;background-color: #f0f8ff;border: 1px dotted black;border-radius: 0.25em;box-sizing: border-box;margin-bottom: 0.5em;}#sk-container-id-3 div.sk-estimator:hover {background-color: #d4ebff;}#sk-container-id-3 div.sk-parallel-item::after {content: \"\";width: 100%;border-bottom: 1px solid gray;flex-grow: 1;}#sk-container-id-3 div.sk-label:hover label.sk-toggleable__label {background-color: #d4ebff;}#sk-container-id-3 div.sk-serial::before {content: \"\";position: absolute;border-left: 1px solid gray;box-sizing: border-box;top: 0;bottom: 0;left: 50%;z-index: 0;}#sk-container-id-3 div.sk-serial {display: flex;flex-direction: column;align-items: center;background-color: white;padding-right: 0.2em;padding-left: 0.2em;position: relative;}#sk-container-id-3 div.sk-item {position: relative;z-index: 1;}#sk-container-id-3 div.sk-parallel {display: flex;align-items: stretch;justify-content: center;background-color: white;position: relative;}#sk-container-id-3 div.sk-item::before, #sk-container-id-3 div.sk-parallel-item::before {content: \"\";position: absolute;border-left: 1px solid gray;box-sizing: border-box;top: 0;bottom: 0;left: 50%;z-index: -1;}#sk-container-id-3 div.sk-parallel-item {display: flex;flex-direction: column;z-index: 1;position: relative;background-color: white;}#sk-container-id-3 div.sk-parallel-item:first-child::after {align-self: flex-end;width: 50%;}#sk-container-id-3 div.sk-parallel-item:last-child::after {align-self: flex-start;width: 50%;}#sk-container-id-3 div.sk-parallel-item:only-child::after {width: 0;}#sk-container-id-3 div.sk-dashed-wrapped {border: 1px dashed gray;margin: 0 0.4em 0.5em 0.4em;box-sizing: border-box;padding-bottom: 0.4em;background-color: white;}#sk-container-id-3 div.sk-label label {font-family: monospace;font-weight: bold;display: inline-block;line-height: 1.2em;}#sk-container-id-3 div.sk-label-container {text-align: center;}#sk-container-id-3 div.sk-container {/* jupyter's `normalize.less` sets `[hidden] { display: none; }` but bootstrap.min.css set `[hidden] { display: none !important; }` so we also need the `!important` here to be able to override the default hidden behavior on the sphinx rendered scikit-learn.org. See: https://github.com/scikit-learn/scikit-learn/issues/21755 */display: inline-block !important;position: relative;}#sk-container-id-3 div.sk-text-repr-fallback {display: none;}</style><div id=\"sk-container-id-3\" class=\"sk-top-container\"><div class=\"sk-text-repr-fallback\"><pre>Lasso()</pre><b>In a Jupyter environment, please rerun this cell to show the HTML representation or trust the notebook. <br />On GitHub, the HTML representation is unable to render, please try loading this page with nbviewer.org.</b></div><div class=\"sk-container\" hidden><div class=\"sk-item\"><div class=\"sk-estimator sk-toggleable\"><input class=\"sk-toggleable__control sk-hidden--visually\" id=\"sk-estimator-id-3\" type=\"checkbox\" checked><label for=\"sk-estimator-id-3\" class=\"sk-toggleable__label sk-toggleable__label-arrow\">Lasso</label><div class=\"sk-toggleable__content\"><pre>Lasso()</pre></div></div></div></div></div>"
      ],
      "text/plain": [
       "Lasso()"
      ]
     },
     "execution_count": 101,
     "metadata": {},
     "output_type": "execute_result"
    }
   ],
   "source": [
    "lasso_model.fit(X_train, y_train)"
   ]
  },
  {
   "cell_type": "code",
   "execution_count": 107,
   "id": "6636249c",
   "metadata": {},
   "outputs": [],
   "source": [
    "def display_metrics(y, preds):\n",
    "    mse = metrics.mean_squared_error(y, preds)\n",
    "    r2_score = metrics.r2_score(y, preds)\n",
    "    rmse = np.sqrt(metrics.mean_squared_error(y, preds))\n",
    "    print('MSE: {:.3f}'.format(mse))\n",
    "    print('R squared error: {:.3f}'.format(r2_score))\n",
    "    print('Root MSE {:.3f}'.format(rmse))"
   ]
  },
  {
   "cell_type": "code",
   "execution_count": 108,
   "id": "0d0044be",
   "metadata": {},
   "outputs": [
    {
     "name": "stdout",
     "output_type": "stream",
     "text": [
      "TRAIN\n",
      "MSE: 2.936\n",
      "R squared error: 0.345\n",
      "Root MSE 1.714\n",
      "\n",
      "TEST\n",
      "MSE: 3.208\n",
      "R squared error: 0.275\n",
      "Root MSE 1.791\n"
     ]
    }
   ],
   "source": [
    "print('TRAIN')\n",
    "train_preds = lasso_model.predict(X_train)\n",
    "display_metrics(y_train, train_preds)\n",
    "\n",
    "print('\\nTEST')\n",
    "test_preds = lasso_model.predict(X_test)\n",
    "display_metrics(y_test, test_preds)"
   ]
  },
  {
   "cell_type": "code",
   "execution_count": 109,
   "id": "1a29ea81",
   "metadata": {},
   "outputs": [],
   "source": [
    "def plt_scatter(x, y, dataname):\n",
    "    plt.scatter(x,y)\n",
    "    plt.xlabel('Predicted ratings')\n",
    "    plt.ylabel('Actual ratings')\n",
    "    plt.title('Predicted vs Actual ratings of {} data'.format(dataname))"
   ]
  },
  {
   "cell_type": "code",
   "execution_count": 110,
   "id": "0e34f76e",
   "metadata": {},
   "outputs": [
    {
     "data": {
      "image/png": "[encoded data removed]",
      "text/plain": [
       "<Figure size 640x480 with 1 Axes>"
      ]
     },
     "metadata": {},
     "output_type": "display_data"
    }
   ],
   "source": [
    "plt_scatter(train_preds, y_train, 'Train')"
   ]
  },
  {
   "cell_type": "code",
   "execution_count": 111,
   "id": "49cf9be1",
   "metadata": {},
   "outputs": [
    {
     "data": {
      "image/png": "[encoded data removed]",
      "text/plain": [
       "<Figure size 640x480 with 1 Axes>"
      ]
     },
     "metadata": {},
     "output_type": "display_data"
    }
   ],
   "source": [
    "plt_scatter(test_preds, y_test, 'Test')"
   ]
  },
  {
   "cell_type": "markdown",
   "id": "e59a69eb",
   "metadata": {},
   "source": [
    "#### XGBoost Regressor"
   ]
  },
  {
   "cell_type": "code",
   "execution_count": 104,
   "id": "5eca57c2",
   "metadata": {},
   "outputs": [],
   "source": [
    "xgb_model = XGBRegressor()"
   ]
  },
  {
   "cell_type": "code",
   "execution_count": 105,
   "id": "b0f54891",
   "metadata": {},
   "outputs": [
    {
     "data": {
      "text/html": [
       "<style>#sk-container-id-4 {color: black;}#sk-container-id-4 pre{padding: 0;}#sk-container-id-4 div.sk-toggleable {background-color: white;}#sk-container-id-4 label.sk-toggleable__label {cursor: pointer;display: block;width: 100%;margin-bottom: 0;padding: 0.3em;box-sizing: border-box;text-align: center;}#sk-container-id-4 label.sk-toggleable__label-arrow:before {content: \"▸\";float: left;margin-right: 0.25em;color: #696969;}#sk-container-id-4 label.sk-toggleable__label-arrow:hover:before {color: black;}#sk-container-id-4 div.sk-estimator:hover label.sk-toggleable__label-arrow:before {color: black;}#sk-container-id-4 div.sk-toggleable__content {max-height: 0;max-width: 0;overflow: hidden;text-align: left;background-color: #f0f8ff;}#sk-container-id-4 div.sk-toggleable__content pre {margin: 0.2em;color: black;border-radius: 0.25em;background-color: #f0f8ff;}#sk-container-id-4 input.sk-toggleable__control:checked~div.sk-toggleable__content {max-height: 200px;max-width: 100%;overflow: auto;}#sk-container-id-4 input.sk-toggleable__control:checked~label.sk-toggleable__label-arrow:before {content: \"▾\";}#sk-container-id-4 div.sk-estimator input.sk-toggleable__control:checked~label.sk-toggleable__label {background-color: #d4ebff;}#sk-container-id-4 div.sk-label input.sk-toggleable__control:checked~label.sk-toggleable__label {background-color: #d4ebff;}#sk-container-id-4 input.sk-hidden--visually {border: 0;clip: rect(1px 1px 1px 1px);clip: rect(1px, 1px, 1px, 1px);height: 1px;margin: -1px;overflow: hidden;padding: 0;position: absolute;width: 1px;}#sk-container-id-4 div.sk-estimator {font-family: monospace;background-color: #f0f8ff;border: 1px dotted black;border-radius: 0.25em;box-sizing: border-box;margin-bottom: 0.5em;}#sk-container-id-4 div.sk-estimator:hover {background-color: #d4ebff;}#sk-container-id-4 div.sk-parallel-item::after {content: \"\";width: 100%;border-bottom: 1px solid gray;flex-grow: 1;}#sk-container-id-4 div.sk-label:hover label.sk-toggleable__label {background-color: #d4ebff;}#sk-container-id-4 div.sk-serial::before {content: \"\";position: absolute;border-left: 1px solid gray;box-sizing: border-box;top: 0;bottom: 0;left: 50%;z-index: 0;}#sk-container-id-4 div.sk-serial {display: flex;flex-direction: column;align-items: center;background-color: white;padding-right: 0.2em;padding-left: 0.2em;position: relative;}#sk-container-id-4 div.sk-item {position: relative;z-index: 1;}#sk-container-id-4 div.sk-parallel {display: flex;align-items: stretch;justify-content: center;background-color: white;position: relative;}#sk-container-id-4 div.sk-item::before, #sk-container-id-4 div.sk-parallel-item::before {content: \"\";position: absolute;border-left: 1px solid gray;box-sizing: border-box;top: 0;bottom: 0;left: 50%;z-index: -1;}#sk-container-id-4 div.sk-parallel-item {display: flex;flex-direction: column;z-index: 1;position: relative;background-color: white;}#sk-container-id-4 div.sk-parallel-item:first-child::after {align-self: flex-end;width: 50%;}#sk-container-id-4 div.sk-parallel-item:last-child::after {align-self: flex-start;width: 50%;}#sk-container-id-4 div.sk-parallel-item:only-child::after {width: 0;}#sk-container-id-4 div.sk-dashed-wrapped {border: 1px dashed gray;margin: 0 0.4em 0.5em 0.4em;box-sizing: border-box;padding-bottom: 0.4em;background-color: white;}#sk-container-id-4 div.sk-label label {font-family: monospace;font-weight: bold;display: inline-block;line-height: 1.2em;}#sk-container-id-4 div.sk-label-container {text-align: center;}#sk-container-id-4 div.sk-container {/* jupyter's `normalize.less` sets `[hidden] { display: none; }` but bootstrap.min.css set `[hidden] { display: none !important; }` so we also need the `!important` here to be able to override the default hidden behavior on the sphinx rendered scikit-learn.org. See: https://github.com/scikit-learn/scikit-learn/issues/21755 */display: inline-block !important;position: relative;}#sk-container-id-4 div.sk-text-repr-fallback {display: none;}</style><div id=\"sk-container-id-4\" class=\"sk-top-container\"><div class=\"sk-text-repr-fallback\"><pre>XGBRegressor(base_score=None, booster=None, callbacks=None,\n",
       "             colsample_bylevel=None, colsample_bynode=None,\n",
       "             colsample_bytree=None, device=None, early_stopping_rounds=None,\n",
       "             enable_categorical=False, eval_metric=None, feature_types=None,\n",
       "             gamma=None, grow_policy=None, importance_type=None,\n",
       "             interaction_constraints=None, learning_rate=None, max_bin=None,\n",
       "             max_cat_threshold=None, max_cat_to_onehot=None,\n",
       "             max_delta_step=None, max_depth=None, max_leaves=None,\n",
       "             min_child_weight=None, missing=nan, monotone_constraints=None,\n",
       "             multi_strategy=None, n_estimators=None, n_jobs=None,\n",
       "             num_parallel_tree=None, random_state=None, ...)</pre><b>In a Jupyter environment, please rerun this cell to show the HTML representation or trust the notebook. <br />On GitHub, the HTML representation is unable to render, please try loading this page with nbviewer.org.</b></div><div class=\"sk-container\" hidden><div class=\"sk-item\"><div class=\"sk-estimator sk-toggleable\"><input class=\"sk-toggleable__control sk-hidden--visually\" id=\"sk-estimator-id-4\" type=\"checkbox\" checked><label for=\"sk-estimator-id-4\" class=\"sk-toggleable__label sk-toggleable__label-arrow\">XGBRegressor</label><div class=\"sk-toggleable__content\"><pre>XGBRegressor(base_score=None, booster=None, callbacks=None,\n",
       "             colsample_bylevel=None, colsample_bynode=None,\n",
       "             colsample_bytree=None, device=None, early_stopping_rounds=None,\n",
       "             enable_categorical=False, eval_metric=None, feature_types=None,\n",
       "             gamma=None, grow_policy=None, importance_type=None,\n",
       "             interaction_constraints=None, learning_rate=None, max_bin=None,\n",
       "             max_cat_threshold=None, max_cat_to_onehot=None,\n",
       "             max_delta_step=None, max_depth=None, max_leaves=None,\n",
       "             min_child_weight=None, missing=nan, monotone_constraints=None,\n",
       "             multi_strategy=None, n_estimators=None, n_jobs=None,\n",
       "             num_parallel_tree=None, random_state=None, ...)</pre></div></div></div></div></div>"
      ],
      "text/plain": [
       "XGBRegressor(base_score=None, booster=None, callbacks=None,\n",
       "             colsample_bylevel=None, colsample_bynode=None,\n",
       "             colsample_bytree=None, device=None, early_stopping_rounds=None,\n",
       "             enable_categorical=False, eval_metric=None, feature_types=None,\n",
       "             gamma=None, grow_policy=None, importance_type=None,\n",
       "             interaction_constraints=None, learning_rate=None, max_bin=None,\n",
       "             max_cat_threshold=None, max_cat_to_onehot=None,\n",
       "             max_delta_step=None, max_depth=None, max_leaves=None,\n",
       "             min_child_weight=None, missing=nan, monotone_constraints=None,\n",
       "             multi_strategy=None, n_estimators=None, n_jobs=None,\n",
       "             num_parallel_tree=None, random_state=None, ...)"
      ]
     },
     "execution_count": 105,
     "metadata": {},
     "output_type": "execute_result"
    }
   ],
   "source": [
    "xgb_model.fit(X_train, y_train)"
   ]
  },
  {
   "cell_type": "code",
   "execution_count": 106,
   "id": "53e28c63",
   "metadata": {},
   "outputs": [
    {
     "name": "stdout",
     "output_type": "stream",
     "text": [
      "TRAIN\n",
      "MSE: 0.719\n",
      "R squared error: 0.840\n",
      "Root MSE 0.848\n",
      "\n",
      "TEST\n",
      "MSE: 2.683\n",
      "R squared error: 0.394\n",
      "Root MSE 1.638\n"
     ]
    }
   ],
   "source": [
    "print('TRAIN')\n",
    "train_preds = xgb_model.predict(X_train)\n",
    "display_metrics(y_train, train_preds)\n",
    "\n",
    "print('\\nTEST')\n",
    "test_preds = xgb_model.predict(X_test)\n",
    "display_metrics(y_test, test_preds)"
   ]
  },
  {
   "cell_type": "markdown",
   "id": "373627c1",
   "metadata": {},
   "source": [
    "- data suggests significant degree of overfitting\n",
    "- RMSE suggests 1.638 rating error on average for the test set (similar to lasso)\n",
    "- r2 score indicates that 39.4% of test variance is explained by model\n",
    "- substantially larger mse than rmse in test model indicates possible outliers"
   ]
  },
  {
   "cell_type": "code",
   "execution_count": 112,
   "id": "4bfb504a",
   "metadata": {},
   "outputs": [
    {
     "data": {
      "image/png": "[encoded data removed]",
      "text/plain": [
       "<Figure size 640x480 with 1 Axes>"
      ]
     },
     "metadata": {},
     "output_type": "display_data"
    }
   ],
   "source": [
    "plt_scatter(train_preds, y_train, 'Train')"
   ]
  },
  {
   "cell_type": "code",
   "execution_count": 113,
   "id": "3c0f7c37",
   "metadata": {},
   "outputs": [
    {
     "data": {
      "image/png": "[encoded data removed]",
      "text/plain": [
       "<Figure size 640x480 with 1 Axes>"
      ]
     },
     "metadata": {},
     "output_type": "display_data"
    }
   ],
   "source": [
    "plt_scatter(test_preds, y_test, 'Test')"
   ]
  }
 ],
 "metadata": {
  "kernelspec": {
   "display_name": "Python 3 (ipykernel)",
   "language": "python",
   "name": "python3"
  },
  "language_info": {
   "codemirror_mode": {
    "name": "ipython",
    "version": 3
   },
   "file_extension": ".py",
   "mimetype": "text/x-python",
   "name": "python",
   "nbconvert_exporter": "python",
   "pygments_lexer": "ipython3",
   "version": "3.11.5"
  }
 },
 "nbformat": 4,
 "nbformat_minor": 5
}
